{
  "nbformat": 4,
  "nbformat_minor": 0,
  "metadata": {
    "colab": {
      "name": "Lucas Numbers.ipynb",
      "provenance": [],
      "collapsed_sections": []
    },
    "kernelspec": {
      "name": "python3",
      "display_name": "Python 3"
    },
    "language_info": {
      "name": "python"
    }
  },
  "cells": [
    {
      "cell_type": "code",
      "metadata": {
        "id": "NAe-gyWytSFD"
      },
      "source": [
        "def L(n):\n",
        "  if n == 0: return 2\n",
        "  elif n == 1: return 1\n",
        "  else: return L(n-1)+L(n-2)"
      ],
      "execution_count": 4,
      "outputs": []
    },
    {
      "cell_type": "code",
      "metadata": {
        "id": "sVhmpKJIuO25",
        "colab": {
          "base_uri": "https://localhost:8080/"
        },
        "outputId": "503cfa0f-5dd6-41b4-94e9-21c0afc9c4c1"
      },
      "source": [
        "print(L(4))"
      ],
      "execution_count": 5,
      "outputs": [
        {
          "output_type": "stream",
          "name": "stdout",
          "text": [
            "7\n"
          ]
        }
      ]
    },
    {
      "cell_type": "code",
      "metadata": {
        "colab": {
          "base_uri": "https://localhost:8080/"
        },
        "id": "TgL69haLu1_u",
        "outputId": "540376aa-caf3-4848-b274-9c76c559000d"
      },
      "source": [
        "print(L(12))"
      ],
      "execution_count": 6,
      "outputs": [
        {
          "output_type": "stream",
          "name": "stdout",
          "text": [
            "322\n"
          ]
        }
      ]
    },
    {
      "cell_type": "code",
      "metadata": {
        "colab": {
          "base_uri": "https://localhost:8080/"
        },
        "id": "5TGfuZLFu4S8",
        "outputId": "d9c9bac9-c1ac-41e7-a322-7a205d4984dd"
      },
      "source": [
        "print(L(20))"
      ],
      "execution_count": 8,
      "outputs": [
        {
          "output_type": "stream",
          "name": "stdout",
          "text": [
            "15127\n"
          ]
        }
      ]
    }
  ]
}